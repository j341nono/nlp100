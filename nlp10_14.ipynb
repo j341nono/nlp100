{
  "cells": [
    {
      "cell_type": "markdown",
      "metadata": {
        "id": "r2rwkC-Zv7fa"
      },
      "source": [
        "pre"
      ]
    },
    {
      "cell_type": "code",
      "execution_count": 4,
      "metadata": {
        "id": "jakJcP3DvjCj"
      },
      "outputs": [],
      "source": [
        "# path = '/content/popular-names.txt'\n",
        "# UNIXコマンドのパスは直接パスを打ち込む必要がある"
      ]
    },
    {
      "cell_type": "code",
      "execution_count": 5,
      "metadata": {
        "colab": {
          "base_uri": "https://localhost:8080/"
        },
        "id": "pqMDI6QTsWnZ",
        "outputId": "9949eda4-f861-4201-ff9c-75eef57f710d"
      },
      "outputs": [
        {
          "name": "stdout",
          "output_type": "stream",
          "text": [
            "Mounted at /content/drive\n"
          ]
        }
      ],
      "source": [
        "# from google.colab import drive\n",
        "# drive.mount('/content/drive')"
      ]
    },
    {
      "cell_type": "code",
      "execution_count": 10,
      "metadata": {
        "id": "NMLFye6fshCo"
      },
      "outputs": [],
      "source": [
        "# path = '/content/drive/MyDrive/Colab Notebooks/nlp100/popular-names.txt'\n",
        "path = './data/popular-names.txt'"
      ]
    },
    {
      "cell_type": "markdown",
      "metadata": {
        "id": "KZ6X6Lwiwr9q"
      },
      "source": [
        "10. 行数のカウントPermalink\n",
        "行数をカウントせよ．確認にはwcコマンドを用いよ"
      ]
    },
    {
      "cell_type": "code",
      "execution_count": 2,
      "metadata": {
        "colab": {
          "base_uri": "https://localhost:8080/"
        },
        "id": "_yanrP8CwstK",
        "outputId": "46ac53fa-2f6e-4fab-cbde-1e0ae9ccb032"
      },
      "outputs": [
        {
          "name": "stdout",
          "output_type": "stream",
          "text": [
            "2780\n",
            "['Mary\\tF\\t7065\\t1880', 'Anna\\tF\\t2604\\t1880', 'Emma\\tF\\t2003\\t1880']\n"
          ]
        }
      ],
      "source": [
        "with open(path, 'r', encoding='utf-8') as f:\n",
        "    # f.read() はファイルの全内容を文字列として取得\n",
        "    text = f.read().split('\\n')\n",
        "\n",
        "print(len(text) - 1)#最後の改行\n",
        "print(text[:3])"
      ]
    },
    {
      "cell_type": "code",
      "execution_count": 5,
      "metadata": {
        "colab": {
          "base_uri": "https://localhost:8080/"
        },
        "id": "p_EAxayC3E8C",
        "outputId": "108ca200-e426-4514-84a5-920b4977f497"
      },
      "outputs": [],
      "source": [
        "# 確認\n",
        "# ! wc -l 'popular-names.txt' # $pathでも\n",
        "\n",
        "# Unix系システムで使用されるコマンドで、word count\n",
        "# txt内の行数, 単語数, バイト数などをカウントできる\n",
        "# -l は行数のオプション"
      ]
    },
    {
      "cell_type": "markdown",
      "metadata": {
        "id": "r_aSSveLw12q"
      },
      "source": [
        "11. タブをスペースに置換\n",
        "\n",
        "タブ1文字につきスペース1文字に置換せよ．確認にはsedコマンド，trコマンド，もしくはexpandコマンドを用いよ．\n"
      ]
    },
    {
      "cell_type": "code",
      "execution_count": 3,
      "metadata": {
        "colab": {
          "base_uri": "https://localhost:8080/"
        },
        "collapsed": true,
        "id": "AgAc83M3w4WI",
        "outputId": "04ae6d14-87e6-47ab-ff71-6e28cf8f0ac2"
      },
      "outputs": [
        {
          "name": "stdout",
          "output_type": "stream",
          "text": [
            "Mary F 7065 1880\n",
            "Anna F 2604 1880\n",
            "Emma F 2003 1880\n",
            "Elizabeth F 1939 1880\n",
            "Minnie F 1746 1880\n",
            "Margaret\n"
          ]
        }
      ],
      "source": [
        "with open(path, 'r', encoding='utf-8') as f:\n",
        "    text = f.read().replace('\\t', ' ')\n",
        "\n",
        "print(text[:100])"
      ]
    },
    {
      "cell_type": "code",
      "execution_count": 9,
      "metadata": {
        "colab": {
          "base_uri": "https://localhost:8080/"
        },
        "collapsed": true,
        "id": "E83ZEWB-zA7Y",
        "outputId": "319c339b-8fa0-4247-ce90-0955507dce10"
      },
      "outputs": [],
      "source": [
        "# ! cat 'popular-names.txt' | sed 's/\\t/ /'\n",
        "# https://qiita.com/Dukapan100knock/items/62caddf7adb00d5c3878"
      ]
    },
    {
      "cell_type": "code",
      "execution_count": 10,
      "metadata": {
        "colab": {
          "base_uri": "https://localhost:8080/"
        },
        "collapsed": true,
        "id": "QMpPAvAgql73",
        "outputId": "da34ccec-3963-4bfc-d373-2c7d6fdfdbb2"
      },
      "outputs": [],
      "source": [
        "# ! cat 'popular-names.txt' | tr '\\t' ' '"
      ]
    },
    {
      "cell_type": "code",
      "execution_count": 11,
      "metadata": {
        "colab": {
          "base_uri": "https://localhost:8080/"
        },
        "collapsed": true,
        "id": "j9S2lAX0qtmh",
        "outputId": "cb6245ed-4df8-4dda-9dac-0fba6ee56eee"
      },
      "outputs": [],
      "source": [
        "# ! cat 'popular-names.txt' | expand"
      ]
    },
    {
      "cell_type": "markdown",
      "metadata": {
        "id": "Jn4K36yQkbeo"
      },
      "source": [
        "12. 1列目をcol1.txtに，2列目をcol2.txtに保存\n",
        "\n",
        "各行の1列目だけを抜き出したものをcol1.txtに，2列目だけを抜き出したものをcol2.txtとしてファイルに保存せよ．確認にはcutコマンドを用いよ．"
      ]
    },
    {
      "cell_type": "code",
      "execution_count": 4,
      "metadata": {
        "id": "OfsMwqjhkdp_"
      },
      "outputs": [],
      "source": [
        "col1 = \"col1.txt\"\n",
        "col2 = \"col2.txt\"\n",
        "\n",
        "with open(path, 'r') as f:\n",
        "    text = f.read().split('\\n')\n",
        "    text = text[:-1] # ファイルの末尾の改行が1つの空リストになるから削除\n",
        "\n",
        "    with open(col1, 'w') as f1, open(col2, 'w') as f2:\n",
        "        for l in text:\n",
        "            f1.write(l.split('\\t')[0] + '\\n')\n",
        "            f2.write(l.split('\\t')[1] + '\\n')\n",
        "            # 最後に空白の行ができてしまう"
      ]
    },
    {
      "cell_type": "code",
      "execution_count": 13,
      "metadata": {
        "colab": {
          "base_uri": "https://localhost:8080/"
        },
        "collapsed": true,
        "id": "PT2_DykKrGnS",
        "outputId": "0546214f-f49e-45c1-a847-a48db28b7021"
      },
      "outputs": [],
      "source": [
        "# ! cut -f 1 -d \" \" 'col1.txt'\n",
        "# https://qiita.com/Dukapan100knock/items/62caddf7adb00d5c3878"
      ]
    },
    {
      "cell_type": "code",
      "execution_count": 14,
      "metadata": {
        "colab": {
          "base_uri": "https://localhost:8080/"
        },
        "collapsed": true,
        "id": "Ry7ElyPFrDZ-",
        "outputId": "822a7ad5-ef41-4f2b-8d72-fcf00543cbdb"
      },
      "outputs": [],
      "source": [
        "# ! cut -f 1 -d \" \" 'col2.txt'"
      ]
    },
    {
      "cell_type": "markdown",
      "metadata": {
        "id": "CLbQOEE5p5CE"
      },
      "source": [
        "13. col1.txtとcol2.txtをマージ\n",
        "\n",
        "12で作ったcol1.txtとcol2.txtを結合し，元のファイルの1列目と2列目をタブ区切りで並べたテキストファイルを作成せよ．確認にはpasteコマンドを用いよ"
      ]
    },
    {
      "cell_type": "code",
      "execution_count": 5,
      "metadata": {
        "id": "eJnGg6AWp6p5"
      },
      "outputs": [],
      "source": [
        "with open(col1, 'r') as f1:\n",
        "    text1 = f1.read().split('\\n')\n",
        "    text1 = text1[:-1]\n",
        "with open(col2, 'r') as f2:\n",
        "    text2 = f2.read().split('\\n')\n",
        "    text2 = text2[:-1]\n",
        "\n",
        "output = [] # = list() でも可能、こっちはコンストラクタから呼び出す\n",
        "for i in range(len(text1)):\n",
        "    output.append(text1[i] + '\\t' + text2[i] + '\\t')\n",
        "\n",
        "# print(output[:100])"
      ]
    },
    {
      "cell_type": "code",
      "execution_count": 16,
      "metadata": {
        "colab": {
          "base_uri": "https://localhost:8080/"
        },
        "collapsed": true,
        "id": "-or-OsXNvxPm",
        "outputId": "8885a4bf-8c94-4e3b-8bda-487f23a8501a"
      },
      "outputs": [],
      "source": [
        "# ! paste 'col1.txt' 'col2.txt'\n",
        "# pastsコマンドはデフォルトでタブ区切り"
      ]
    },
    {
      "cell_type": "markdown",
      "metadata": {
        "id": "1Mz-6WHHwJBG"
      },
      "source": [
        "14. 先頭からN行を出力\n",
        "\n",
        "自然数Nをコマンドライン引数などの手段で受け取り，入力のうち先頭のN行だけを表示せよ．確認にはheadコマンドを用いよ．"
      ]
    },
    {
      "cell_type": "code",
      "execution_count": null,
      "metadata": {
        "colab": {
          "base_uri": "https://localhost:8080/"
        },
        "id": "9_rhapInwK6S",
        "outputId": "28d4af18-460a-422a-c37a-5311c9137a2a"
      },
      "outputs": [
        {
          "name": "stdout",
          "output_type": "stream",
          "text": [
            "Mary\tF\t7065\t1880\n",
            "Anna\tF\t2604\t1880\n",
            "Emma\tF\t2003\t1880\n"
          ]
        }
      ],
      "source": [
        "# 以下はコマンドライン引数か微妙, 下の方が適切\n",
        "\n",
        "with open(path, 'r') as f:\n",
        "    # input() 実行中に入力を行う\n",
        "    val = int(input())\n",
        "    lines = f.readlines()\n",
        "    for i in range(val):\n",
        "        lines[i] = lines[i].replace('\\n', '')\n",
        "        print(lines[i])\n",
        "\n",
        "# https://qiita.com/Dukapan100knock/items/62caddf7adb00d5c3878"
      ]
    },
    {
      "cell_type": "code",
      "execution_count": 7,
      "metadata": {
        "colab": {
          "base_uri": "https://localhost:8080/"
        },
        "id": "fuVKxPcV06_a",
        "outputId": "38694a15-d27d-4f58-daeb-b10053e36661"
      },
      "outputs": [
        {
          "name": "stderr",
          "output_type": "stream",
          "text": [
            "'tail' �́A�����R�}���h�܂��͊O���R�}���h�A\n",
            "����\\�ȃv���O�����܂��̓o�b�` �t�@�C���Ƃ��ĔF������Ă��܂���B\n"
          ]
        }
      ],
      "source": [
        "! tail -n 5 'popular-names.txt'"
      ]
    },
    {
      "cell_type": "code",
      "execution_count": 11,
      "metadata": {
        "id": "n2mGT8CKWtXb"
      },
      "outputs": [],
      "source": [
        "def count_line(n):\n",
        "    with open(path, 'r') as f:\n",
        "        lines = f.readlines()\n",
        "        for i in range(n):\n",
        "            lines[i] = lines[i].replace('\\n', '')\n",
        "            print(lines[i])\n"
      ]
    },
    {
      "cell_type": "code",
      "execution_count": 12,
      "metadata": {
        "colab": {
          "base_uri": "https://localhost:8080/"
        },
        "id": "Z-DQ1l9p1kzf",
        "outputId": "e6ef3bee-866e-48bf-ed1d-bb130f27aa55"
      },
      "outputs": [
        {
          "name": "stdout",
          "output_type": "stream",
          "text": [
            "Mary\tF\t7065\t1880\n",
            "Anna\tF\t2604\t1880\n",
            "Emma\tF\t2003\t1880\n",
            "Elizabeth\tF\t1939\t1880\n",
            "Minnie\tF\t1746\t1880\n"
          ]
        }
      ],
      "source": [
        "count_line(5)"
      ]
    },
    {
      "cell_type": "code",
      "execution_count": 13,
      "metadata": {
        "colab": {
          "base_uri": "https://localhost:8080/"
        },
        "id": "-riwQ7St1w8a",
        "outputId": "b6ac5131-fe10-46d6-8e7e-791d80e74201"
      },
      "outputs": [
        {
          "name": "stderr",
          "output_type": "stream",
          "text": [
            "'head' �́A�����R�}���h�܂��͊O���R�}���h�A\n",
            "����\\�ȃv���O�����܂��̓o�b�` �t�@�C���Ƃ��ĔF������Ă��܂���B\n"
          ]
        }
      ],
      "source": [
        "! head -n 3 'popular-names.txt'\n",
        "# nは行数、cは文字数"
      ]
    }
  ],
  "metadata": {
    "colab": {
      "provenance": []
    },
    "kernelspec": {
      "display_name": "Python 3",
      "name": "python3"
    },
    "language_info": {
      "codemirror_mode": {
        "name": "ipython",
        "version": 3
      },
      "file_extension": ".py",
      "mimetype": "text/x-python",
      "name": "python",
      "nbconvert_exporter": "python",
      "pygments_lexer": "ipython3",
      "version": "3.13.0"
    }
  },
  "nbformat": 4,
  "nbformat_minor": 0
}
