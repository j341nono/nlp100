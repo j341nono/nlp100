{
 "cells": [
  {
   "cell_type": "markdown",
   "metadata": {},
   "source": [
    "chapter1 5-9"
   ]
  },
  {
   "cell_type": "markdown",
   "metadata": {},
   "source": [
    "05. n-gram\n",
    "与えられたシーケンス（文字列やリストなど）からn-gramを作る関数を作成せよ．この関数を用い，”I am an NLPer”という文から単語bi-gram，文字bi-gramを得よ．"
   ]
  },
  {
   "cell_type": "code",
   "execution_count": 31,
   "metadata": {},
   "outputs": [],
   "source": [
    "# n=1のとき\n",
    "# input[idx:idx+1] for idx in range(len(input) - 1 + 1)\n",
    "# n=2のとき\n",
    "# input[idx:idx+2] for idx in range(len(input) - 2 + 1)\n",
    "# n=kのとき\n",
    "# input[idx:idx+k] for idx in range(len(input) - k + 1)"
   ]
  },
  {
   "cell_type": "code",
   "execution_count": 32,
   "metadata": {},
   "outputs": [],
   "source": [
    "def n_gram(n, text):\n",
    "    if isinstance(text, str):\n",
    "        char = text.replace(\" \", \"\") # stringのみ\n",
    "        word = text.split(\" \")\n",
    "    elif isinstance(text, list):\n",
    "        char = ''.join(text)\n",
    "        word = text\n",
    "    char_list = []\n",
    "    word_list = []\n",
    "    for i in range(len(char) - n+1):\n",
    "        char_list.append(char[i:n+i])\n",
    "    for j in range(len(word) - n+1):\n",
    "        word_list.append(word[j:n+j])\n",
    "    return char_list, word_list"
   ]
  },
  {
   "cell_type": "code",
   "execution_count": 33,
   "metadata": {},
   "outputs": [
    {
     "name": "stdout",
     "output_type": "stream",
     "text": [
      "文字bi-gram ['Ia', 'am', 'ma', 'an', 'nN', 'NL', 'LP', 'Pe', 'er']\n",
      "単語bi-gram [['I', 'am'], ['am', 'an'], ['an', 'NLPer']]\n"
     ]
    }
   ],
   "source": [
    "# string input\n",
    "char, word = n_gram(2, 'I am an NLPer')\n",
    "print(\"文字bi-gram\", char)\n",
    "print(\"単語bi-gram\", word)"
   ]
  },
  {
   "cell_type": "code",
   "execution_count": 34,
   "metadata": {},
   "outputs": [
    {
     "name": "stdout",
     "output_type": "stream",
     "text": [
      "文字bi-gram ['Ia', 'am', 'ma', 'an', 'nN', 'NL', 'LP', 'Pe', 'er']\n",
      "単語bi-gram [['I', 'am'], ['am', 'an'], ['an', 'NLPer']]\n"
     ]
    }
   ],
   "source": [
    "# list input\n",
    "char, word = n_gram(2, ['I', 'am', 'an', 'NLPer'])\n",
    "print(\"文字bi-gram\", char)\n",
    "print(\"単語bi-gram\", word)"
   ]
  },
  {
   "cell_type": "markdown",
   "metadata": {},
   "source": [
    "参考\n",
    "https://qiita.com/kazmaw/items/4df328cba6429ec210fb"
   ]
  },
  {
   "cell_type": "markdown",
   "metadata": {},
   "source": [
    "06. 集合\n",
    "“paraparaparadise”と”paragraph”に含まれる文字bi-gramの集合を，それぞれ, XとYとして求め，XとYの和集合，積集合，差集合を求めよ．さらに，’se’というbi-gramがXおよびYに含まれるかどうかを調べよ．"
   ]
  },
  {
   "cell_type": "code",
   "execution_count": null,
   "metadata": {},
   "outputs": [
    {
     "name": "stdout",
     "output_type": "stream",
     "text": [
      "{'pa', 'ap', 'se', 'ad', 'ar', 'di', 'ra', 'is'}\n",
      "{'pa', 'ap', 'gr', 'ar', 'ph', 'ra', 'ag'}\n",
      "和集合: {'pa', 'ap', 'se', 'ad', 'gr', 'ar', 'di', 'ph', 'ra', 'ag', 'is'}\n",
      "積集合: {'pa', 'ap', 'ar', 'ra'}\n",
      "差集合:\n",
      "{'se', 'di', 'is', 'ad'}\n",
      "{'gr', 'ph', 'ag'}\n"
     ]
    }
   ],
   "source": [
    "X_char, _ = n_gram(2, 'paraparaparadise')\n",
    "Y_char, _ = n_gram(2, 'paragraph')\n",
    "\n",
    "X = set(X_char)\n",
    "Y = set(Y_char)\n",
    "\n",
    "print('和集合:', X|Y)\n",
    "print('積集合:', X&Y)\n",
    "print('差集合:')\n",
    "print(X-Y)\n",
    "print(Y-X)"
   ]
  },
  {
   "cell_type": "code",
   "execution_count": 84,
   "metadata": {},
   "outputs": [],
   "source": [
    "def check_se(S):\n",
    "    if 'se' in S:\n",
    "        return '含まれる'\n",
    "    else:\n",
    "        return '含まれない'"
   ]
  },
  {
   "cell_type": "code",
   "execution_count": 88,
   "metadata": {},
   "outputs": [
    {
     "name": "stdout",
     "output_type": "stream",
     "text": [
      "Xにseは含まれる\n",
      "Yにseは含まれない\n"
     ]
    }
   ],
   "source": [
    "print('Xにseは'+ check_se(X))\n",
    "print('Yにseは'+ check_se(Y))"
   ]
  },
  {
   "cell_type": "markdown",
   "metadata": {},
   "source": [
    "参考　https://note.nkmk.me/python-set/"
   ]
  },
  {
   "cell_type": "markdown",
   "metadata": {},
   "source": [
    "07. テンプレートによる文生成\n",
    "引数x, y, zを受け取り「x時のyはz」という文字列を返す関数を実装せよ．さらに，x=12, y=”気温”, z=22.4として，実行結果を確認せよ．"
   ]
  },
  {
   "cell_type": "code",
   "execution_count": 44,
   "metadata": {},
   "outputs": [],
   "source": [
    "def sentence_generator(x, y, z):\n",
    "    return '{}時の{}は{}'.format(x, y, z)"
   ]
  },
  {
   "cell_type": "code",
   "execution_count": 45,
   "metadata": {},
   "outputs": [
    {
     "data": {
      "text/plain": [
       "'12時の気温は22.4'"
      ]
     },
     "execution_count": 45,
     "metadata": {},
     "output_type": "execute_result"
    }
   ],
   "source": [
    "sentence_generator(12, '気温', 22.4)"
   ]
  },
  {
   "cell_type": "markdown",
   "metadata": {},
   "source": [
    "08. 暗号文\n",
    "与えられた文字列の各文字を，以下の仕様で変換する関数cipherを実装せよ．\n",
    "\n",
    "英小文字ならば(219 - 文字コード)の文字に置換\n",
    "その他の文字はそのまま出力\n",
    "この関数を用い，英語のメッセージを暗号化・復号化せよ．"
   ]
  },
  {
   "cell_type": "code",
   "execution_count": null,
   "metadata": {},
   "outputs": [],
   "source": [
    "# 小文字の文字コードは97-122\n",
    "def cipher(input):\n",
    "    ans = ''\n",
    "    for c in input:\n",
    "        if ord(c) >= 97 and ord(c) <= 122:\n",
    "            n = 219 - ord(c)\n",
    "            ans += chr(n)\n",
    "        else:\n",
    "            ans += c\n",
    "    return ans"
   ]
  },
  {
   "cell_type": "code",
   "execution_count": 45,
   "metadata": {},
   "outputs": [
    {
     "name": "stdout",
     "output_type": "stream",
     "text": [
      "y\n",
      "jdvigb\n",
      "Nlmlnfiz\n"
     ]
    }
   ],
   "source": [
    "print(cipher('b'))\n",
    "print(cipher('qwerty'))\n",
    "print(cipher('Nonomura'))"
   ]
  },
  {
   "cell_type": "code",
   "execution_count": 47,
   "metadata": {},
   "outputs": [
    {
     "data": {
      "text/plain": [
       "'Wv ziv tlrmt gl nvvg zg 8 zg Opzrwlf'"
      ]
     },
     "execution_count": 47,
     "metadata": {},
     "output_type": "execute_result"
    }
   ],
   "source": [
    "# 暗号化\n",
    "word ='We are going to meet at 8 at Okaidou'\n",
    "cipher(word)"
   ]
  },
  {
   "cell_type": "code",
   "execution_count": 48,
   "metadata": {},
   "outputs": [
    {
     "data": {
      "text/plain": [
       "'We are going to meet at 8 at Okaidou'"
      ]
     },
     "execution_count": 48,
     "metadata": {},
     "output_type": "execute_result"
    }
   ],
   "source": [
    "# 復号化\n",
    "word = 'Wv ziv tlrmt gl nvvg zg 8 zg Opzrwlf'\n",
    "cipher(word)"
   ]
  },
  {
   "cell_type": "markdown",
   "metadata": {},
   "source": [
    "09. Typoglycemia\n",
    "スペースで区切られた単語列に対して，各単語の先頭と末尾の文字は残し，それ以外の文字の順序をランダムに並び替えるプログラムを作成せよ．ただし，長さが４以下の単語は並び替えないこととする．適当な英語の文（例えば”I couldn’t believe that I could actually understand what I was reading : the phenomenal power of the human mind .”）を与え，その実行結果を確認せよ．"
   ]
  },
  {
   "cell_type": "code",
   "execution_count": 72,
   "metadata": {},
   "outputs": [],
   "source": [
    "import random\n",
    "\n",
    "def randomize_sentence(text):\n",
    "    text = text.split()\n",
    "    ans = []\n",
    "    for word in text:\n",
    "        ans.append(randomize_word(word))\n",
    "    return ' '.join(ans)\n",
    "\n",
    "def randomize_word(text):\n",
    "    if len(text) <= 4:\n",
    "        return text\n",
    "    middle = list(text[1:-1])\n",
    "    random.shuffle(middle)\n",
    "    return text[0] + ''.join(middle) + text[-1]\n",
    "    \n",
    "            "
   ]
  },
  {
   "cell_type": "code",
   "execution_count": 73,
   "metadata": {},
   "outputs": [
    {
     "name": "stdout",
     "output_type": "stream",
     "text": [
      "I cln’udot bleivee that I culod atlculay udesantrnd what I was radenig : the phenoeanml power of the human mind .\n"
     ]
    }
   ],
   "source": [
    "sentence = \"I couldn’t believe that I could actually understand what I was reading : the phenomenal power of the human mind .\"\n",
    "sentence = randomize_sentence(sentence)\n",
    "\n",
    "print(sentence)"
   ]
  }
 ],
 "metadata": {
  "kernelspec": {
   "display_name": "Python 3",
   "language": "python",
   "name": "python3"
  },
  "language_info": {
   "codemirror_mode": {
    "name": "ipython",
    "version": 3
   },
   "file_extension": ".py",
   "mimetype": "text/x-python",
   "name": "python",
   "nbconvert_exporter": "python",
   "pygments_lexer": "ipython3",
   "version": "3.13.0"
  }
 },
 "nbformat": 4,
 "nbformat_minor": 2
}
