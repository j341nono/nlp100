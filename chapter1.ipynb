{
 "cells": [
  {
   "cell_type": "markdown",
   "metadata": {},
   "source": [
    "chapter1"
   ]
  },
  {
   "cell_type": "markdown",
   "metadata": {},
   "source": [
    "00. 文字列の逆順\n",
    "文字列”stressed”の文字を逆に（末尾から先頭に向かって）並べた文字列を得よ．"
   ]
  },
  {
   "cell_type": "code",
   "execution_count": null,
   "metadata": {},
   "outputs": [
    {
     "name": "stdout",
     "output_type": "stream",
     "text": [
      "desserts\n"
     ]
    }
   ],
   "source": [
    "text = 'stressed'\n",
    "\n",
    "text = reversed(text)\n",
    "\n",
    "text = ''.join(list(text))\n",
    "print(text)"
   ]
  },
  {
   "cell_type": "code",
   "execution_count": null,
   "metadata": {},
   "outputs": [
    {
     "name": "stdout",
     "output_type": "stream",
     "text": [
      "<reversed object at 0x0000020E90832F20>\n"
     ]
    }
   ],
   "source": [
    "# イテレータの確認\n",
    "text = 'stressed'\n",
    "\n",
    "text = reversed(text)\n",
    "print(text)\n",
    "# reversed() はイテレータを返す\n",
    "# イテレータはデータを順番に取り出すための仕組み"
   ]
  },
  {
   "cell_type": "markdown",
   "metadata": {},
   "source": [
    "01. 「パタトクカシーー」\n",
    "「パタトクカシーー」という文字列の1,3,5,7文字目を取り出して連結した文字列を得よ．"
   ]
  },
  {
   "cell_type": "code",
   "execution_count": 6,
   "metadata": {},
   "outputs": [
    {
     "name": "stdout",
     "output_type": "stream",
     "text": [
      "パトカー\n"
     ]
    }
   ],
   "source": [
    "text = 'パタトクカシーー'\n",
    "\n",
    "ans = []\n",
    "for i in range(0, 8, 2):\n",
    "    ans.append(text[i])\n",
    "\n",
    "ans = ''.join(list(ans))\n",
    "print(ans)"
   ]
  },
  {
   "cell_type": "markdown",
   "metadata": {},
   "source": [
    "02. 「パトカー」＋「タクシー」＝「パタトクカシーー」\n",
    "「パトカー」＋「タクシー」の文字を先頭から交互に連結して文字列「パタトクカシーー」を得よ．"
   ]
  },
  {
   "cell_type": "code",
   "execution_count": null,
   "metadata": {},
   "outputs": [
    {
     "name": "stdout",
     "output_type": "stream",
     "text": [
      "パタトクカシーー\n"
     ]
    }
   ],
   "source": [
    "text_a = 'パトカー'\n",
    "text_b = 'タクシー'\n",
    "\n",
    "ans = []\n",
    "\n",
    "for i, (a, b) in enumerate(zip(text_a, text_b)):\n",
    "    ans.append(text_a[i])\n",
    "    ans.append(text_b[i])\n",
    "\n",
    "ans = ''.join(list(ans))\n",
    "print(ans)"
   ]
  },
  {
   "cell_type": "markdown",
   "metadata": {},
   "source": [
    "03. 円周率\n",
    "“Now I need a drink, alcoholic of course, after the heavy lectures involving quantum mechanics.”という文を単語に分解し，各単語の（アルファベットの）文字数を先頭から出現順に並べたリストを作成せよ．"
   ]
  },
  {
   "cell_type": "code",
   "execution_count": null,
   "metadata": {},
   "outputs": [
    {
     "name": "stdout",
     "output_type": "stream",
     "text": [
      "[3, 1, 4, 1, 5, 9, 2, 6, 5, 3, 5, 8, 9, 7, 9]\n"
     ]
    }
   ],
   "source": [
    "text = 'Now I need a drink, alcoholic of course, after the heavy lectures involving quantum mechanics.'\n",
    "\n",
    "text = text.replace(',', '').replace('.', '')\n",
    "text = text.split()\n",
    "\n",
    "ans = [len(i) for i in text]\n",
    "    \n",
    "print(ans)"
   ]
  },
  {
   "cell_type": "markdown",
   "metadata": {},
   "source": [
    "4. 元素記号\n",
    "“Hi He Lied Because Boron Could Not Oxidize Fluorine. New Nations Might Also Sign Peace Security Clause. Arthur King Can.”という文を単語に分解し，1, 5, 6, 7, 8, 9, 15, 16, 19番目の単語は先頭の1文字，それ以外の単語は先頭の2文字を取り出し，取り出した文字列から単語の位置（先頭から何番目の単語か）への連想配列（辞書型もしくはマップ型）を作成せよ．"
   ]
  },
  {
   "cell_type": "code",
   "execution_count": 12,
   "metadata": {},
   "outputs": [
    {
     "name": "stdout",
     "output_type": "stream",
     "text": [
      "{'H': 1, 'He': 2, 'Li': 3, 'Be': 4, 'B': 5, 'C': 6, 'N': 7, 'O': 8, 'F': 9, 'Ne': 10, 'Na': 11, 'Mi': 12, 'Al': 13, 'Si': 14, 'P': 15, 'S': 16, 'Cl': 17, 'Ar': 18, 'K': 19, 'Ca': 20}\n"
     ]
    }
   ],
   "source": [
    "text = 'Hi He Lied Because Boron Could Not Oxidize Fluorine. New Nations Might Also Sign Peace Security Clause. Arthur King Can.'\n",
    "when = [1, 5, 6, 7, 8, 9, 15, 16, 19]\n",
    "\n",
    "text = text.replace(',', '').replace('.', '').split()\n",
    "#print(text)\n",
    "ans = {}\n",
    "\n",
    "for i in range(len(text)):\n",
    "    if i+1 in when:\n",
    "        ans[text[i][:1]] = i+1\n",
    "    else:\n",
    "        ans[text[i][:2]] = i+1\n",
    "\n",
    "print(ans)\n",
    "    "
   ]
  },
  {
   "cell_type": "markdown",
   "metadata": {},
   "source": [
    "05. n-gram\n",
    "与えられたシーケンス（文字列やリストなど）からn-gramを作る関数を作成せよ．この関数を用い，”I am an NLPer”という文から単語bi-gram，文字bi-gramを得よ．"
   ]
  },
  {
   "cell_type": "code",
   "execution_count": null,
   "metadata": {},
   "outputs": [],
   "source": [
    "'''\n",
    "def make_tango_ngram(input, n):\n",
    "    input = input.split(' ')\n",
    "    #print(input)\n",
    "    ans = []\n",
    "    for i in range(len(input) - n + 1):\n",
    "        cnt = i\n",
    "        bf = ''\n",
    "        for _ in range(n):\n",
    "            # 現在処理中の単語がngramの最後の単語かどうか\n",
    "            if cnt - i == n-1:\n",
    "                bf += input[cnt]\n",
    "            else:\n",
    "                bf += input[cnt] + ' '\n",
    "            cnt += 1\n",
    "        ans.append(bf)\n",
    "    return ans\n",
    "\n",
    "def make_moji_ngram(input, n):\n",
    "    input = input.replace(' ', '')\n",
    "    #print(input)\n",
    "    ans = []\n",
    "    for i in range(len(input) - n + 1):\n",
    "        bf = input[i:i+n]\n",
    "        ans.append(bf)\n",
    "    return ans\n",
    "# return [input[idx:idx+n] for idx in range(len(input) - n + 1)]\n",
    "'''\n",
    "# n=1のとき\n",
    "# input[idx:idx+1] for idx in range(len(input) - 1 + 1)\n",
    "# n=2のとき\n",
    "# input[idx:idx+2] for idx in range(len(input) - 2 + 1)\n",
    "# n=kのとき\n",
    "# input[idx:idx+k] for idx in range(len(input) - k + 1)"
   ]
  },
  {
   "cell_type": "code",
   "execution_count": 73,
   "metadata": {},
   "outputs": [],
   "source": [
    "def n_gram(n, text):\n",
    "    char = text.replace(\" \", \"\")\n",
    "    word = text.split(\" \")\n",
    "    char_list = []\n",
    "    word_list = []\n",
    "    for i in range(len(char)):\n",
    "        char_list.append(char[i:n+i])\n",
    "    for j in range(len(word)):\n",
    "        word_list.append(word[j:n+j])\n",
    "    return char_list, word_list"
   ]
  },
  {
   "cell_type": "code",
   "execution_count": 74,
   "metadata": {},
   "outputs": [
    {
     "name": "stdout",
     "output_type": "stream",
     "text": [
      "文字bi-gram ['Ia', 'am', 'ma', 'an', 'nN', 'NL', 'LP', 'Pe', 'er', 'r']\n",
      "単語bi-gram [['I', 'am'], ['am', 'an'], ['an', 'NLPer'], ['NLPer']]\n"
     ]
    }
   ],
   "source": [
    "char, word = n_gram(2, \"I am an NLPer\")\n",
    "print(\"文字bi-gram\", char)\n",
    "print(\"単語bi-gram\", word)"
   ]
  },
  {
   "cell_type": "markdown",
   "metadata": {},
   "source": [
    "参考\n",
    "https://qiita.com/kazmaw/items/4df328cba6429ec210fb"
   ]
  },
  {
   "cell_type": "markdown",
   "metadata": {},
   "source": [
    "06. 集合\n",
    "“paraparaparadise”と”paragraph”に含まれる文字bi-gramの集合を，それぞれ, XとYとして求め，XとYの和集合，積集合，差集合を求めよ．さらに，’se’というbi-gramがXおよびYに含まれるかどうかを調べよ．"
   ]
  },
  {
   "cell_type": "code",
   "execution_count": 77,
   "metadata": {},
   "outputs": [
    {
     "name": "stdout",
     "output_type": "stream",
     "text": [
      "和集合: {'ra', 'e', 'ar', 'h', 'gr', 'ap', 'di', 'is', 'ph', 'se', 'pa', 'ag', 'ad'}\n",
      "積集合: {'ra', 'ap', 'pa', 'ar'}\n",
      "差集合:\n",
      "{'e', 'di', 'is', 'se', 'ad'}\n",
      "{'h', 'gr', 'ag', 'ph'}\n"
     ]
    }
   ],
   "source": [
    "X_bi, _ = n_gram(2, 'paraparaparadise')\n",
    "Y_bi, _ = n_gram(2, 'paragraph')\n",
    "\n",
    "X = set(X_bi)\n",
    "Y = set(Y_bi)\n",
    "\n",
    "print('和集合:', X|Y)\n",
    "print('積集合:', X&Y)\n",
    "print('差集合:')\n",
    "print(X-Y)\n",
    "print(Y-X)"
   ]
  },
  {
   "cell_type": "code",
   "execution_count": 84,
   "metadata": {},
   "outputs": [],
   "source": [
    "def check_se(S):\n",
    "    if 'se' in S:\n",
    "        return '含まれる'\n",
    "    else:\n",
    "        return '含まれない'"
   ]
  },
  {
   "cell_type": "code",
   "execution_count": 88,
   "metadata": {},
   "outputs": [
    {
     "name": "stdout",
     "output_type": "stream",
     "text": [
      "Xにseは含まれる\n",
      "Yにseは含まれない\n"
     ]
    }
   ],
   "source": [
    "print('Xにseは'+ check_se(X))\n",
    "print('Yにseは'+ check_se(Y))"
   ]
  },
  {
   "cell_type": "markdown",
   "metadata": {},
   "source": [
    "参考　https://note.nkmk.me/python-set/"
   ]
  },
  {
   "cell_type": "markdown",
   "metadata": {},
   "source": [
    "07. テンプレートによる文生成\n",
    "引数x, y, zを受け取り「x時のyはz」という文字列を返す関数を実装せよ．さらに，x=12, y=”気温”, z=22.4として，実行結果を確認せよ．"
   ]
  },
  {
   "cell_type": "code",
   "execution_count": 44,
   "metadata": {},
   "outputs": [],
   "source": [
    "def sentence_generator(x, y, z):\n",
    "    return '{}時の{}は{}'.format(x, y, z)"
   ]
  },
  {
   "cell_type": "code",
   "execution_count": 45,
   "metadata": {},
   "outputs": [
    {
     "data": {
      "text/plain": [
       "'12時の気温は22.4'"
      ]
     },
     "execution_count": 45,
     "metadata": {},
     "output_type": "execute_result"
    }
   ],
   "source": [
    "sentence_generator(12, '気温', 22.4)"
   ]
  },
  {
   "cell_type": "markdown",
   "metadata": {},
   "source": [
    "08. 暗号文\n",
    "与えられた文字列の各文字を，以下の仕様で変換する関数cipherを実装せよ．\n",
    "\n",
    "英小文字ならば(219 - 文字コード)の文字に置換\n",
    "その他の文字はそのまま出力\n",
    "この関数を用い，英語のメッセージを暗号化・復号化せよ．"
   ]
  },
  {
   "cell_type": "code",
   "execution_count": 66,
   "metadata": {},
   "outputs": [],
   "source": [
    "# 小文字の文字コードは97-122\n",
    "def cipher(input):\n",
    "    ans = ''\n",
    "    for c in input:\n",
    "        if ord(c) >= 97 and ord(c) <= 122:\n",
    "            n = 219 - ord(c)\n",
    "            ans += chr(n)\n",
    "        else:\n",
    "            ans += c\n",
    "    return ans"
   ]
  },
  {
   "cell_type": "code",
   "execution_count": 70,
   "metadata": {},
   "outputs": [
    {
     "name": "stdout",
     "output_type": "stream",
     "text": [
      "y\n",
      "jdvigb\n",
      "mlmlnfiz\n"
     ]
    }
   ],
   "source": [
    "print(cipher('b'))\n",
    "\n",
    "print(cipher('qwerty'))\n",
    "print(cipher('nonomura'))"
   ]
  },
  {
   "cell_type": "code",
   "execution_count": null,
   "metadata": {},
   "outputs": [
    {
     "data": {
      "text/plain": [
       "'dv ziv tlrmt gl nvvg zg 8 zg lpzrwlf'"
      ]
     },
     "execution_count": 71,
     "metadata": {},
     "output_type": "execute_result"
    }
   ],
   "source": [
    "# 暗号化\n",
    "word ='we are going to meet at 8 at okaidou'\n",
    "cipher(word)"
   ]
  },
  {
   "cell_type": "code",
   "execution_count": 72,
   "metadata": {},
   "outputs": [
    {
     "data": {
      "text/plain": [
       "'we are going to meet at 8 at okaidou'"
      ]
     },
     "execution_count": 72,
     "metadata": {},
     "output_type": "execute_result"
    }
   ],
   "source": [
    "# 復号化\n",
    "word = 'dv ziv tlrmt gl nvvg zg 8 zg lpzrwlf'\n",
    "cipher(word)"
   ]
  },
  {
   "cell_type": "markdown",
   "metadata": {},
   "source": [
    "09. Typoglycemia\n",
    "スペースで区切られた単語列に対して，各単語の先頭と末尾の文字は残し，それ以外の文字の順序をランダムに並び替えるプログラムを作成せよ．ただし，長さが４以下の単語は並び替えないこととする．適当な英語の文（例えば”I couldn’t believe that I could actually understand what I was reading : the phenomenal power of the human mind .”）を与え，その実行結果を確認せよ．"
   ]
  },
  {
   "cell_type": "code",
   "execution_count": 81,
   "metadata": {},
   "outputs": [],
   "source": [
    "import random\n",
    "\n",
    "def randomize_sentence(input):\n",
    "    input = input.split()\n",
    "    ans = []\n",
    "    for word in input:\n",
    "        # 単語の末尾に記号が含まれる場合に対応\n",
    "        if word[-1].isalpha():\n",
    "            ans.append(randomize_word(word))\n",
    "        else:\n",
    "            ans.append(randomize_word(word[:-1]) + word[-1])\n",
    "\n",
    "    return ' '.join(ans)\n",
    "\n",
    "def randomize_word(input):\n",
    "    if len(input) <= 4:\n",
    "        return input\n",
    "    middle = list(input[1:-1])\n",
    "    random.shuffle(middle)\n",
    "    return input[0] + ''.join(middle) + input[-1]\n",
    "    \n",
    "            "
   ]
  },
  {
   "cell_type": "code",
   "execution_count": 83,
   "metadata": {},
   "outputs": [
    {
     "name": "stdout",
     "output_type": "stream",
     "text": [
      "Shuffled: I c’nuoldt believe that I colud atlalcuy uenntarsdd what I was ridenag : the pmohnaeenl power of the haumn mind .\n"
     ]
    }
   ],
   "source": [
    "sentence = \"I couldn’t believe that I could actually understand what I was reading : the phenomenal power of the human mind .\"\n",
    "sentence = randomize_sentence(sentence)\n",
    "\n",
    "print(\"Shuffled:\", sentence)"
   ]
  }
 ],
 "metadata": {
  "kernelspec": {
   "display_name": "Python 3",
   "language": "python",
   "name": "python3"
  },
  "language_info": {
   "codemirror_mode": {
    "name": "ipython",
    "version": 3
   },
   "file_extension": ".py",
   "mimetype": "text/x-python",
   "name": "python",
   "nbconvert_exporter": "python",
   "pygments_lexer": "ipython3",
   "version": "3.13.0"
  }
 },
 "nbformat": 4,
 "nbformat_minor": 2
}
